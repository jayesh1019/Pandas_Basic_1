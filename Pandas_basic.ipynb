{
 "cells": [
  {
   "cell_type": "markdown",
   "id": "9a1c2eb6-a353-4f22-afc8-239afa562dab",
   "metadata": {},
   "source": [
    "### Q1. Create a Pandas Series that contains the following data: 4, 8, 15, 16, 23, and 42. Then, print the series."
   ]
  },
  {
   "cell_type": "code",
   "execution_count": 2,
   "id": "001e87ea-713b-4d24-a408-995375deb6b2",
   "metadata": {},
   "outputs": [
    {
     "name": "stdout",
     "output_type": "stream",
     "text": [
      "0     4\n",
      "1     8\n",
      "2    15\n",
      "3    16\n",
      "4    23\n",
      "5    42\n",
      "dtype: int64\n"
     ]
    }
   ],
   "source": [
    "import pandas as pd\n",
    "data = [4 , 8 , 15 , 16 , 23 , 42]\n",
    "series = pd.Series(data)\n",
    "print(series)"
   ]
  },
  {
   "cell_type": "markdown",
   "id": "f7429c39-a08f-4541-99d5-74acaf00ca69",
   "metadata": {},
   "source": [
    "### Q2. Create a variable of list type containing 10 elements in it, and apply pandas.Series function on the variable print it.\n"
   ]
  },
  {
   "cell_type": "code",
   "execution_count": 3,
   "id": "ca147a6a-1038-42de-aa16-a741a90782e1",
   "metadata": {},
   "outputs": [
    {
     "name": "stdout",
     "output_type": "stream",
     "text": [
      "0     5\n",
      "1     2\n",
      "2     3\n",
      "3     1\n",
      "4     7\n",
      "5     8\n",
      "6     9\n",
      "7    10\n",
      "8     6\n",
      "9     4\n",
      "dtype: int64\n"
     ]
    }
   ],
   "source": [
    "lst = [5 , 2 , 3 , 1 , 7 , 8 , 9 , 10 , 6 , 4]\n",
    "lst_series = pd.Series(lst)\n",
    "print(lst_series)"
   ]
  },
  {
   "cell_type": "markdown",
   "id": "90324548-17e8-4f50-b29a-7453b8d596c0",
   "metadata": {},
   "source": [
    "### Q3. Create a Pandas DataFrame that contains the following data:"
   ]
  },
  {
   "cell_type": "code",
   "execution_count": 4,
   "id": "67bc1346-9852-4590-83b0-40f6bf822739",
   "metadata": {},
   "outputs": [
    {
     "name": "stdout",
     "output_type": "stream",
     "text": [
      "     Name  Age  Gender\n",
      "0   Alice   25  Female\n",
      "1     Bob   30    Male\n",
      "2  Claire   27  Female\n"
     ]
    }
   ],
   "source": [
    "data = {\n",
    "        'Name' : ['Alice' , 'Bob' , 'Claire'] ,\n",
    "        'Age' : [25 , 30 , 27],\n",
    "        'Gender' : ['Female' , 'Male' , 'Female']\n",
    "}\n",
    "\n",
    "df = pd.DataFrame(data)\n",
    "print(df)"
   ]
  },
  {
   "cell_type": "markdown",
   "id": "ccb9161a-ff9e-44d4-af79-0956ecb2c5b0",
   "metadata": {},
   "source": [
    "### Q4. What is ‘DataFrame’ in pandas and how is it different from pandas.series? Explain with an example."
   ]
  },
  {
   "cell_type": "raw",
   "id": "70e6041c-abd0-4f24-8c4a-8d85b7039437",
   "metadata": {},
   "source": [
    "DataFrame = DataFrame is a two-dimensional tabular data structure that consists of rows and columns. It is one of the primary data structures provided by the pandas library for data manipulation and analysis.\n",
    "\n",
    "series = Series is a one-dimensional labeled array-like data structure. It can be thought of as a column in a table or a single column from a spreadsheet. A Series contains a sequence of values and their associated labels or index.\n",
    "\n",
    "The main difference between a DataFrame and a Series is their dimensionality. A DataFrame is a two-dimensional structure with rows and columns, while a Series is a one-dimensional structure representing a single column or a sequence of values. DataFrames are used for working with structured, tabular data with multiple variables, while Series are useful for working with individual columns or arrays of data.\n",
    "\n"
   ]
  },
  {
   "cell_type": "code",
   "execution_count": 5,
   "id": "95887f2f-cd43-4852-bfb1-824a68198061",
   "metadata": {},
   "outputs": [
    {
     "name": "stdout",
     "output_type": "stream",
     "text": [
      "     Name  Age  Gender\n",
      "0   Alice   25  Female\n",
      "1     Bob   30    Male\n",
      "2  Claire   27  Female\n",
      "0     5\n",
      "1     2\n",
      "2     3\n",
      "3     1\n",
      "4     7\n",
      "5     8\n",
      "6     9\n",
      "7    10\n",
      "8     6\n",
      "9     4\n",
      "dtype: int64\n"
     ]
    }
   ],
   "source": [
    "# Example of data frame\n",
    "data = {\n",
    "        'Name' : ['Alice' , 'Bob' , 'Claire'] ,\n",
    "        'Age' : [25 , 30 , 27],\n",
    "        'Gender' : ['Female' , 'Male' , 'Female']\n",
    "}\n",
    "\n",
    "df = pd.DataFrame(data)\n",
    "print(df)\n",
    "\n",
    "# Example of Series\n",
    "lst = [5 , 2 , 3 , 1 , 7 , 8 , 9 , 10 , 6 , 4]\n",
    "lst_series = pd.Series(lst)\n",
    "print(lst_series)"
   ]
  },
  {
   "cell_type": "markdown",
   "id": "bd8263c0-bfd8-4fee-80f9-3630fd995883",
   "metadata": {},
   "source": [
    "### Q5. What are some common functions you can use to manipulate data in a Pandas DataFrame? Can you give an example of when you might use one of these functions?\n"
   ]
  },
  {
   "cell_type": "raw",
   "id": "7285020b-bf6d-42a7-b81d-b288423c4fd8",
   "metadata": {},
   "source": [
    "Common functions of pandas Dataframe\n",
    "\n",
    "head() : it will give you first 5 rows of the dataframe, if give parameter is 3 then it will give first 3 rows\n",
    "Tail() : it will give last 5 rows of the dataframe, if we give parameter is 3 then it will give last 3 rows\n",
    "shape() : The shape attribute returns the dimensions of the DataFrame as a tuple (number of rows, number of columns)\n",
    "info():  This function provides a summary of the DataFrame, including the number of non-null values in each column, the data types, and memory usage. It helps in understanding the data's composition and identifying potential missing values.\n",
    "\n",
    "\n",
    "example : suppose we have a large dataset in csv file then we have to find summary of dataset (how many rows , columns , non-null values and its datatype etc )"
   ]
  },
  {
   "cell_type": "markdown",
   "id": "e16ca832-8ea4-4738-9dba-ac66c550e204",
   "metadata": {},
   "source": [
    "### Q6. Which of the following is mutable in nature Series, DataFrame, Panel?"
   ]
  },
  {
   "cell_type": "raw",
   "id": "79d5a6bf-279c-40e7-bd19-0a11a909d0ea",
   "metadata": {},
   "source": [
    "series and dataframe are mutable but panel is not"
   ]
  },
  {
   "cell_type": "markdown",
   "id": "0b21869d-3d5e-4f2e-a1c4-700d9bd78cda",
   "metadata": {},
   "source": [
    "### Q7. Create a DataFrame using multiple Series. Explain with an example."
   ]
  },
  {
   "cell_type": "code",
   "execution_count": 6,
   "id": "16147dd1-dae5-484b-b61d-da2fb640a9ca",
   "metadata": {},
   "outputs": [
    {
     "name": "stdout",
     "output_type": "stream",
     "text": [
      "      Name  Age  Grade\n",
      "0     John   18     85\n",
      "1     Emma   19     92\n",
      "2  Michael   17     78\n",
      "3   Sophia   18     89\n"
     ]
    }
   ],
   "source": [
    "\n",
    "name_series = pd.Series(['John', 'Emma', 'Michael', 'Sophia'])\n",
    "age_series = pd.Series([18, 19, 17, 18])\n",
    "grade_series = pd.Series([85, 92, 78, 89])\n",
    "\n",
    "\n",
    "df = pd.DataFrame({'Name': name_series, 'Age': age_series, 'Grade': grade_series})\n",
    "\n",
    "\n",
    "print(df)\n"
   ]
  },
  {
   "cell_type": "code",
   "execution_count": null,
   "id": "8814650d-4793-4b11-8c65-ad12d7da5a29",
   "metadata": {},
   "outputs": [],
   "source": []
  }
 ],
 "metadata": {
  "kernelspec": {
   "display_name": "Python 3 (ipykernel)",
   "language": "python",
   "name": "python3"
  },
  "language_info": {
   "codemirror_mode": {
    "name": "ipython",
    "version": 3
   },
   "file_extension": ".py",
   "mimetype": "text/x-python",
   "name": "python",
   "nbconvert_exporter": "python",
   "pygments_lexer": "ipython3",
   "version": "3.10.8"
  }
 },
 "nbformat": 4,
 "nbformat_minor": 5
}
